{
 "cells": [
  {
   "cell_type": "code",
   "execution_count": 1,
   "metadata": {},
   "outputs": [
    {
     "name": "stdout",
     "output_type": "stream",
     "text": [
      "Populating the interactive namespace from numpy and matplotlib\n"
     ]
    }
   ],
   "source": [
    "import json\n",
    "jlo = lambda s: json.load(open(s,'r'))\n",
    "%pylab inline\n",
    "%config InlineBackend.figure_format = 'retina'\n",
    "from itertools import combinations\n",
    "import os\n",
    "from scipy import interpolate\n",
    "import pandas as pd\n",
    "import glob as gl\n",
    "import collections as co\n",
    "import gln_v8_parallel_py3 as gln"
   ]
  },
  {
   "cell_type": "code",
   "execution_count": null,
   "metadata": {},
   "outputs": [],
   "source": [
    "## load raw data ##\n",
    "a = pd.read_csv(\"Neuprint_Neurons_52a133.csv\", skip_blank_lines = 1, usecols=['bodyId:long','bL(L):boolean'])\n",
    "traced = pd.read_csv(\"traced-neurons.csv\", skip_blank_lines = 1)\n",
    "\n",
    "# select neurons in BL(L) region #\n",
    "bl = a[a['bL(L):boolean']==1]\n",
    "neurons = set(bl['bodyId:long']).intersection(set(traced['bodyId']))\n",
    "neurons = list(neurons)\n",
    "json.dump(neurons, open('./neurons_in_BL_L_mapped.json','w'))\n",
    "\n",
    "all_neurons = gl.glob('./skeletons/*.swc')\n",
    "included = set(neurons).intersection(set([int(i.split('/')[2][:-4]) for i in all_neurons]))\n",
    "not_included = list(set(neurons).difference(included))\n"
   ]
  },
  {
   "cell_type": "markdown",
   "metadata": {},
   "source": [
    "# trace morphology of neurons"
   ]
  },
  {
   "cell_type": "code",
   "execution_count": null,
   "metadata": {},
   "outputs": [],
   "source": [
    "BL_L = {}\n",
    "for idx in neurons:\n",
    "    BL_L[idx] = {'post':[], 'pre':[], 'coor':[]}\n",
    "    with open('./skeletons/%d.swc'%idx,'r') as f:\n",
    "        next(f)\n",
    "        next(f)\n",
    "        next(f)\n",
    "        for line in f:\n",
    "            b,_,x,y,z,_,c = line.strip().split(' ')\n",
    "            BL_L[idx]['post'].append(int(b))\n",
    "            BL_L[idx]['pre'].append(int(c))\n",
    "            BL_L[idx]['coor'].append([float(x),float(y),float(z)])"
   ]
  },
  {
   "cell_type": "code",
   "execution_count": null,
   "metadata": {},
   "outputs": [],
   "source": [
    "links = {}\n",
    "for idx in neurons:\n",
    "    links[idx] = {}\n",
    "    tmp = array(BL_L[idx]['pre'])\n",
    "    degrees = [len(where(tmp==i)[0])+1 for i in range(1,max(BL_L[idx]['post'])+1)]\n",
    "    degrees = array(degrees)\n",
    "    brachings = where(degrees>2)[0]\n",
    "    leaves = where(tmp==-1)[0]\n",
    "    ends = where(degrees==1)[0]\n",
    "    \n",
    "    for i in range(len(BL_L[idx]['coor'])):\n",
    "        if BL_L[idx]['post'][i]-1 in leaves:\n",
    "            links[idx][len(links[idx])] = {'end_points':[i], 'points':[BL_L[idx]['coor'][i]], 'nodes':[i]}\n",
    "        elif BL_L[idx]['post'][i]-1 in ends:\n",
    "            links[idx][len(links[idx])-1]['end_points'].append(i)\n",
    "            links[idx][len(links[idx])-1]['points'].append(BL_L[idx]['coor'][i])\n",
    "            links[idx][len(links[idx])-1]['nodes'].append(i)  \n",
    "        elif BL_L[idx]['post'][i]-1 in brachings:\n",
    "            if len(links[idx][len(links[idx])-1]['end_points']) == 1:\n",
    "                links[idx][len(links[idx])-1]['end_points'].append(i)\n",
    "                links[idx][len(links[idx])-1]['points'].append(BL_L[idx]['coor'][i])\n",
    "                links[idx][len(links[idx])-1]['nodes'].append(i)   \n",
    "            else:\n",
    "                links[idx][len(links[idx])] = {'end_points':[i], 'points':[BL_L[idx]['coor'][i]], 'nodes':[i]}\n",
    "        elif BL_L[idx]['pre'][i]-1 in brachings:\n",
    "            links[idx][len(links[idx])] = {'end_points':[BL_L[idx]['pre'][i]-1], 'points':[BL_L[idx]['coor'][BL_L[idx]['pre'][i]-1],BL_L[idx]['coor'][i]], 'nodes':[BL_L[idx]['pre'][i]-1,i]}\n",
    "        else:\n",
    "            links[idx][len(links[idx])-1]['points'].append(BL_L[idx]['coor'][i])\n",
    "            links[idx][len(links[idx])-1]['nodes'].append(i)\n",
    "    break\n",
    "    "
   ]
  },
  {
   "cell_type": "markdown",
   "metadata": {},
   "source": [
    "# connect neurons together into a big network based on synaptic connections "
   ]
  },
  {
   "cell_type": "code",
   "execution_count": 6,
   "metadata": {},
   "outputs": [],
   "source": [
    "a = pd.read_csv(\"Neuprint_SynapseSet_to_Synapses_52a133.csv\", skip_blank_lines = 1)\n"
   ]
  },
  {
   "cell_type": "code",
   "execution_count": 7,
   "metadata": {},
   "outputs": [],
   "source": [
    "neuron_connect = array([[i.split('_')[0], i.split('_')[1]] for i in a.index.values])"
   ]
  },
  {
   "cell_type": "code",
   "execution_count": 8,
   "metadata": {},
   "outputs": [],
   "source": [
    "neurons = [str(i) for i in neurons]"
   ]
  },
  {
   "cell_type": "code",
   "execution_count": 9,
   "metadata": {},
   "outputs": [],
   "source": [
    "neurons = array(neurons)"
   ]
  },
  {
   "cell_type": "code",
   "execution_count": 10,
   "metadata": {},
   "outputs": [],
   "source": [
    "## find all rows with two neurons both in BL_L ##\n",
    "mask = in1d(neuron_connect[:,0], neurons)*in1d(neuron_connect[:,1], neurons)"
   ]
  },
  {
   "cell_type": "code",
   "execution_count": 16,
   "metadata": {},
   "outputs": [],
   "source": [
    "synapses = {}\n",
    "a_BL = a['070097075'][mask]\n",
    "for i in range(len(a_BL)):\n",
    "    synapses[a_BL[i]] = {'neurons':[a_BL.index.values[i].split('_')[0], a_BL.index.values[i].split('_')[1]]}"
   ]
  },
  {
   "cell_type": "code",
   "execution_count": 20,
   "metadata": {},
   "outputs": [],
   "source": [
    "synapses = {str(i):synapses[i] for i in synapses}"
   ]
  },
  {
   "cell_type": "code",
   "execution_count": 21,
   "metadata": {},
   "outputs": [],
   "source": [
    "json.dump(synapses, open('./synapseId_2_neurons_BL_L.json','w'))"
   ]
  },
  {
   "cell_type": "code",
   "execution_count": 23,
   "metadata": {},
   "outputs": [],
   "source": [
    "b = pd.read_csv(\"Neuprint_Synapse_Connections_52a133.csv\", skip_blank_lines = 1)\n"
   ]
  },
  {
   "cell_type": "code",
   "execution_count": 25,
   "metadata": {},
   "outputs": [],
   "source": [
    "synapses_array = array([int(i) for i in synapses])"
   ]
  },
  {
   "cell_type": "code",
   "execution_count": 26,
   "metadata": {},
   "outputs": [],
   "source": [
    "## find all rows with two synapses both in BL_L ##\n",
    "mask1 = in1d(b[':START_ID(Syn-ID)'], synapses_array)*in1d(b[':END_ID(Syn-ID)'], synapses_array)"
   ]
  },
  {
   "cell_type": "code",
   "execution_count": 48,
   "metadata": {},
   "outputs": [],
   "source": [
    "b_BL = b[mask1]\n",
    "synapse_connect = {}\n",
    "for i in where(mask1==1)[0]:\n",
    "    synapse_connect[b_BL[':START_ID(Syn-ID)'][i]] = b_BL[':END_ID(Syn-ID)'][i]\n",
    "    synapse_connect[b_BL[':END_ID(Syn-ID)'][i]] = b_BL[':START_ID(Syn-ID)'][i]"
   ]
  },
  {
   "cell_type": "code",
   "execution_count": 52,
   "metadata": {},
   "outputs": [],
   "source": [
    "synapse_connect = {str(i):str(synapse_connect[i]) for i in synapse_connect}"
   ]
  },
  {
   "cell_type": "code",
   "execution_count": 53,
   "metadata": {},
   "outputs": [],
   "source": [
    "json.dump(synapse_connect, open('./synapse_connections_BL_L.json','w'))"
   ]
  },
  {
   "cell_type": "code",
   "execution_count": 64,
   "metadata": {},
   "outputs": [],
   "source": [
    "neuron_2_synapse = {i:{} for i in neurons}\n",
    "for i in synapses:\n",
    "    j,k = synapses[i]['neurons']\n",
    "    if k in neuron_2_synapse[j]:\n",
    "        neuron_2_synapse[j][k].append(i)\n",
    "    else:\n",
    "        neuron_2_synapse[j][k] = [i]\n",
    "#     if j in neuron_2_synapse[k]:\n",
    "#         neuron_2_synapse[k][j].append(i)\n",
    "#     else:\n",
    "#         neuron_2_synapse[k][j] = [i]"
   ]
  },
  {
   "cell_type": "code",
   "execution_count": 65,
   "metadata": {},
   "outputs": [],
   "source": [
    "json.dump(neuron_2_synapse, open('./neuron_2_synapse_BL_L.json','w'))"
   ]
  },
  {
   "cell_type": "code",
   "execution_count": 76,
   "metadata": {},
   "outputs": [],
   "source": [
    "with open('./Neuprint_Synapses_52a133.csv','r') as f:\n",
    "    next(f)\n",
    "    for line in f:\n",
    "        tmp = line.strip().split(',')\n",
    "#         break\n",
    "        if int(tmp[0]) in synapses_array:\n",
    "            synapses[tmp[0]]['position'] = [int(tmp[3].strip()[4:]), int(tmp[4].strip()[2:]), int(tmp[5].strip()[2:-2])]"
   ]
  },
  {
   "cell_type": "code",
   "execution_count": 83,
   "metadata": {},
   "outputs": [],
   "source": [
    "json.dump(synapses, open('./synapseId_2_neurons_BL_L.json','w'))"
   ]
  },
  {
   "cell_type": "code",
   "execution_count": 100,
   "metadata": {},
   "outputs": [],
   "source": [
    "for idx in neurons:\n",
    "#     links[idx] = {}\n",
    "    idx = int(idx)\n",
    "    links[idx] = {}\n",
    "    tmp = array(BL_L[idx]['pre'])\n",
    "    degrees = [len(where(tmp==i)[0])+1 for i in range(1,max(BL_L[idx]['post'])+1)]\n",
    "    degrees = array(degrees)\n",
    "    brachings = where(degrees>2)[0]\n",
    "    leaves = where(tmp==-1)[0]\n",
    "    ends = where(degrees==1)[0]\n",
    "    \n",
    "    for i in range(len(BL_L[idx]['coor'])):\n",
    "        if BL_L[idx]['post'][i]-1 in leaves:\n",
    "            links[idx][len(links[idx])] = {'end_points':[i], 'points':[BL_L[idx]['coor'][i]], 'nodes':[i]}\n",
    "        elif BL_L[idx]['pre'][i]-1 in brachings:\n",
    "            links[idx][len(links[idx])] = {'end_points':[BL_L[idx]['pre'][i]-1], 'points':[BL_L[idx]['coor'][BL_L[idx]['pre'][i]-1],BL_L[idx]['coor'][i]], 'nodes':[BL_L[idx]['pre'][i]-1,i]}\n",
    "        \n",
    "        if BL_L[idx]['post'][i]-1 in ends:\n",
    "            links[idx][len(links[idx])-1]['end_points'].append(i)\n",
    "            links[idx][len(links[idx])-1]['points'].append(BL_L[idx]['coor'][i])\n",
    "            links[idx][len(links[idx])-1]['nodes'].append(i)  \n",
    "        elif BL_L[idx]['post'][i]-1 in brachings:\n",
    "            if len(links[idx][len(links[idx])-1]['end_points']) == 1:\n",
    "                links[idx][len(links[idx])-1]['end_points'].append(i)\n",
    "                links[idx][len(links[idx])-1]['points'].append(BL_L[idx]['coor'][i])\n",
    "                links[idx][len(links[idx])-1]['nodes'].append(i)   \n",
    "            else:\n",
    "                links[idx][len(links[idx])] = {'end_points':[i], 'points':[BL_L[idx]['coor'][i]], 'nodes':[i]}\n",
    "        elif (BL_L[idx]['post'][i]-1 not in leaves) and (BL_L[idx]['pre'][i]-1 not in brachings):\n",
    "            links[idx][len(links[idx])-1]['points'].append(BL_L[idx]['coor'][i])\n",
    "            links[idx][len(links[idx])-1]['nodes'].append(i)"
   ]
  },
  {
   "cell_type": "code",
   "execution_count": 101,
   "metadata": {},
   "outputs": [],
   "source": [
    "links = {str(i):links[i] for i in links}\n",
    "json.dump(links, open('./links_BL_L_before_attach_synapses.json','w'))"
   ]
  },
  {
   "cell_type": "code",
   "execution_count": null,
   "metadata": {},
   "outputs": [],
   "source": [
    "for idx in neurons:            \n",
    "    ## attach synapses ##\n",
    "    tmp = array(BL_L[idx]['pre'])\n",
    "    degrees = array([len(where(tmp==i)[0])+1 for i in range(1,max(BL_L[idx]['post'])+1)])\n",
    "    brachings = where(degrees>2)[0]\n",
    "    leaves = where(tmp==-1)[0]\n",
    "    ends = where(degrees==1)[0]\n",
    "    for j in neuron_2_synapse[str(idx)]:\n",
    "        for k in neuron_2_synapse[str(idx)][j]:\n",
    "            if 'position' not in synapses[k]:\n",
    "                l = synapse_connect[k]\n",
    "                if 'position' not in synapses[l]:\n",
    "                    continue\n",
    "                else:\n",
    "                    syn_coor = synapses[l]['position']\n",
    "            else:\n",
    "                syn_coor = synapses[k]['position']\n",
    "            points = array(BL_L[idx]['coor'])\n",
    "            dis = sqrt(sum((points - array(syn_coor))**2, axis=1))\n",
    "            nod = where(dis==min(dis))[0][0]\n",
    "            if nod in leaves or nod in ends:\n",
    "                for t in links[idx]:\n",
    "                    if nod in links[idx][t]['end_points']:\n",
    "                        if nod == links[idx][t]['end_points'][0]:\n",
    "                            links[idx][t]['points'][0] = syn_coor\n",
    "                        else:\n",
    "                            links[idx][t]['points'][-1] = syn_coor\n",
    "                        break\n",
    "            elif nod in brachings:\n",
    "                for t in links[idx]:\n",
    "                    if nod in links[idx][t]['end_points']:\n",
    "                        if nod == links[idx][t]['end_points'][0]:\n",
    "                            links[idx][t]['points'][0] = syn_coor\n",
    "                        else:\n",
    "                            links[idx][t]['points'][-1] = syn_coor\n",
    "            else:\n",
    "                for t in links[idx]:\n",
    "                    if nod in links[idx][t]['nodes']:\n",
    "                        nod_idx = links[idx][t]['nodes'].index(nod)\n",
    "                        links[idx][t]['points'][nod_idx] = syn_coor\n",
    "                        links[idx][len(links[idx])] = {'end_points':[links[idx][t]['end_points'][0], nod],\n",
    "                                                      'points':links[idx][t]['points'][:nod_idx+1],\n",
    "                                                      'nodes':links[idx][t]['points'][:nod_idx+1]}\n",
    "                        links[idx][t] = {'end_points':[nod, links[idx][t]['end_points'][1]],\n",
    "                                            'points':links[idx][t]['points'][nod_idx:],\n",
    "                                            'nodes':links[idx][t]['points'][nod_idx:]}\n",
    "\n",
    "                        break"
   ]
  },
  {
   "cell_type": "code",
   "execution_count": 111,
   "metadata": {},
   "outputs": [],
   "source": [
    "BL_L = {str(i):BL_L[i] for i in BL_L}"
   ]
  },
  {
   "cell_type": "code",
   "execution_count": 136,
   "metadata": {},
   "outputs": [],
   "source": [
    "links = jlo('./links_BL_L_before_attach_synapses.json')\n",
    "synapse_connect = jlo('./synapse_connections_BL_L.json')\n",
    "synapses = jlo('./synapseId_2_neurons_BL_L.json')"
   ]
  },
  {
   "cell_type": "code",
   "execution_count": null,
   "metadata": {},
   "outputs": [],
   "source": [
    "syn_visited = []\n",
    "neuron_synapse_nodes = {i:[] for i in neurons}\n",
    "for s in synapses_array:\n",
    "    s = str(s)\n",
    "    s1 = synapse_connect[s]\n",
    "    if s not in syn_visited and s1 not in syn_visited:\n",
    "        syn_visited.append(s)\n",
    "        syn_visited.append(s1)\n",
    "        if 'position' not in synapses[s]:\n",
    "#             s1 = synapse_connect[s]\n",
    "#             syn_visited.append(s1)\n",
    "            if 'position' not in synapses[s1]:            \n",
    "#                 del synapses[s]\n",
    "#                 del synapses[s1]\n",
    "#                 del synapse_connect[s1]\n",
    "#                 del synapse_connect[s]\n",
    "                continue\n",
    "            else:\n",
    "                n1,n2 = synapses[s]['neurons']\n",
    "                syn_coor = synapses[s1]['position']\n",
    "        else:\n",
    "#             s1 = synapse_connect[s]\n",
    "#             syn_visited.append(s1)\n",
    "            syn_coor = synapses[s]['position']\n",
    "            n1,n2 = synapses[s]['neurons']\n",
    "        ## edit neuron n1 ##\n",
    "#         n1 = int(n1)\n",
    "#         n2 = int(n2)\n",
    "        tmp = array(BL_L[n1]['pre'])\n",
    "        degrees = array([len(where(tmp==i)[0])+1 for i in range(1,max(BL_L[n1]['post'])+1)])\n",
    "        brachings = where(degrees>2)[0]\n",
    "        leaves = where(tmp==-1)[0]\n",
    "        ends = where(degrees==1)[0]\n",
    "        points = array(BL_L[n1]['coor'])\n",
    "        dis = sqrt(sum((points - array(syn_coor))**2, axis=1))\n",
    "        nod = where(dis==min(dis))[0][0]\n",
    "        neuron_synapse_nodes[str(n1)].append(nod)\n",
    "        if nod in leaves or nod in ends:\n",
    "            for t in links[n1]:\n",
    "                if nod in links[n1][t]['end_points']:\n",
    "                    if nod == links[n1][t]['end_points'][0]:\n",
    "                        links[n1][t]['points'][0] = syn_coor\n",
    "                    else:\n",
    "                        links[n1][t]['points'][-1] = syn_coor\n",
    "                    break\n",
    "        elif nod in brachings:\n",
    "            for t in links[n1]:\n",
    "                if nod in links[n1][t]['end_points']:\n",
    "                    if nod == links[n1][t]['end_points'][0]:\n",
    "                        links[n1][t]['points'][0] = syn_coor\n",
    "                    else:\n",
    "                        links[n1][t]['points'][-1] = syn_coor\n",
    "        else:\n",
    "            for t in links[n1]:\n",
    "                if nod in links[n1][t]['nodes']:\n",
    "                    nod_idx = links[n1][t]['nodes'].index(nod)\n",
    "                    links[n1][t]['points'][nod_idx] = syn_coor\n",
    "                    links[n1][len(links[n1])] = {'end_points':[links[n1][t]['end_points'][0], nod],\n",
    "                                                  'points':links[n1][t]['points'][:nod_idx+1],\n",
    "                                                  'nodes':links[n1][t]['nodes'][:nod_idx+1]}\n",
    "                    links[n1][t] = {'end_points':[nod, links[n1][t]['end_points'][1]],\n",
    "                                        'points':links[n1][t]['points'][nod_idx:],\n",
    "                                        'nodes':links[n1][t]['nodes'][nod_idx:]}\n",
    "\n",
    "                    break\n",
    "        \n",
    "        ## edit neuron n2 ##\n",
    "        tmp = array(BL_L[n2]['pre'])\n",
    "        degrees = array([len(where(tmp==i)[0])+1 for i in range(1,max(BL_L[n2]['post'])+1)])\n",
    "        brachings = where(degrees>2)[0]\n",
    "        leaves = where(tmp==-1)[0]\n",
    "        ends = where(degrees==1)[0]\n",
    "        points = array(BL_L[n2]['coor'])\n",
    "        dis = sqrt(sum((points - array(syn_coor))**2, axis=1))\n",
    "        nod = where(dis==min(dis))[0][0]\n",
    "        neuron_synapse_nodes[str(n2)].append(nod)\n",
    "        if nod in leaves or nod in ends:\n",
    "            for t in links[n2]:\n",
    "                if nod in links[n2][t]['end_points']:\n",
    "                    if nod == links[n2][t]['end_points'][0]:\n",
    "                        links[n2][t]['points'][0] = syn_coor\n",
    "                    else:\n",
    "                        links[n2][t]['points'][-1] = syn_coor\n",
    "                    break\n",
    "        elif nod in brachings:\n",
    "            for t in links[n2]:\n",
    "                if nod in links[n2][t]['end_points']:\n",
    "                    if nod == links[n2][t]['end_points'][0]:\n",
    "                        links[n2][t]['points'][0] = syn_coor\n",
    "                    else:\n",
    "                        links[n2][t]['points'][-1] = syn_coor\n",
    "        else:\n",
    "            for t in links[n2]:\n",
    "                if nod in links[n2][t]['nodes']:\n",
    "                    nod_idx = links[n2][t]['nodes'].index(nod)\n",
    "                    links[n2][t]['points'][nod_idx] = syn_coor\n",
    "                    links[n2][len(links[n2])] = {'end_points':[links[n2][t]['end_points'][0], nod],\n",
    "                                                  'points':links[n2][t]['points'][:nod_idx+1],\n",
    "                                                  'nodes':links[n2][t]['nodes'][:nod_idx+1]}\n",
    "                    links[n2][t] = {'end_points':[nod, links[n2][t]['end_points'][1]],\n",
    "                                        'points':links[n2][t]['points'][nod_idx:],\n",
    "                                        'nodes':links[n2][t]['nodes'][nod_idx:]}\n",
    "\n",
    "                    break"
   ]
  },
  {
   "cell_type": "code",
   "execution_count": 172,
   "metadata": {},
   "outputs": [],
   "source": [
    "for i in links:\n",
    "    for j in links[i]:\n",
    "         links[i][j]['end_points'] = [str(k) for k in links[i][j]['end_points']]\n",
    "#         links[i][j]['nodes'] = [str(k) for k in links[i][j]['nodes']]\n",
    "json.dump(links, open('./links_BL_L_with_synapses_attached.json','w'))\n",
    "for i in neuron_synapse_nodes:\n",
    "    neuron_synapse_nodes[i] = [str(j) for j in neuron_synapse_nodes[i]]\n",
    "json.dump(neuron_synapse_nodes, open('./neurons_synapse_nodes_BL_L.json','w'))"
   ]
  },
  {
   "cell_type": "markdown",
   "metadata": {},
   "source": [
    "# clean branches"
   ]
  },
  {
   "cell_type": "code",
   "execution_count": 237,
   "metadata": {},
   "outputs": [],
   "source": [
    "links_clean = jlo('./links_BL_L_with_synapses_attached.json')"
   ]
  },
  {
   "cell_type": "code",
   "execution_count": 238,
   "metadata": {},
   "outputs": [],
   "source": [
    "## delete neurons with no synapses ##\n",
    "for i in neuron_synapse_nodes:\n",
    "    if len(neuron_synapse_nodes[i]) == 0:\n",
    "        del links_clean[i]"
   ]
  },
  {
   "cell_type": "code",
   "execution_count": 311,
   "metadata": {},
   "outputs": [],
   "source": [
    "for idx in links_clean:\n",
    "    nodes = array([links_clean[idx][j]['end_points'][0] for j in links_clean[idx]]+[links_clean[idx][j]['end_points'][1] for j in links_clean[idx]])\n",
    "    n_list = array(list(set(nodes)))\n",
    "    degrees = array([len(where(nodes==i)[0]) for i in n_list])\n",
    "    ends = n_list[where(degrees==1)[0]]\n",
    "    flag = 1\n",
    "    while flag > 0:\n",
    "        tmp = list(links_clean[idx].keys())\n",
    "        flag = 0\n",
    "        for i in tmp:\n",
    "            if links_clean[idx][i]['end_points'][0] in ends or links_clean[idx][i]['end_points'][1] in ends:\n",
    "                if len(set(links_clean[idx][i]['nodes']).intersection(set(neuron_synapse_nodes[idx])))==0:\n",
    "                    del links_clean[idx][i]\n",
    "                    flag = 1\n",
    "                elif (links_clean[idx][i]['end_points'][0] in ends) and (links_clean[idx][i]['end_points'][1] in neuron_synapse_nodes[idx]):\n",
    "                    del links_clean[idx][i]\n",
    "                    flag = 1\n",
    "                elif (links_clean[idx][i]['end_points'][1] in ends) and (links_clean[idx][i]['end_points'][0] in neuron_synapse_nodes[idx]):\n",
    "                    del links_clean[idx][i]\n",
    "                    flag = 1\n",
    "        nodes = array([links_clean[idx][j]['end_points'][0] for j in links_clean[idx]]+[links_clean[idx][j]['end_points'][1] for j in links_clean[idx]])\n",
    "        n_list = array(list(set(nodes)))\n",
    "        degrees = array([len(where(nodes==i)[0]) for i in n_list])\n",
    "        ends = n_list[where(degrees==1)[0]]              \n",
    "        "
   ]
  },
  {
   "cell_type": "code",
   "execution_count": 312,
   "metadata": {},
   "outputs": [],
   "source": [
    "json.dump(links_clean, open('./links_cleaned_branches_with_synapses_BL_L.json','w'))"
   ]
  },
  {
   "cell_type": "code",
   "execution_count": 323,
   "metadata": {},
   "outputs": [],
   "source": [
    "## clear degree-2 nodes ##\n",
    "for idx in links_clean:\n",
    "    nodes = array([links_clean[idx][j]['end_points'][0] for j in links_clean[idx]]+[links_clean[idx][j]['end_points'][1] for j in links_clean[idx]])\n",
    "    n_list = array(list(set(nodes)))\n",
    "    degrees = array([len(where(nodes==i)[0]) for i in n_list])\n",
    "#     ends = n_list[where(degrees==1)[0]]\n",
    "    targets = n_list[where(degrees==2)[0]]\n",
    "    while len(targets) > 0:\n",
    "#         tmp = list(links_clean[idx].keys())\n",
    "        for i in targets:\n",
    "            pair = []\n",
    "            for j in links_clean[idx]:\n",
    "                if links_clean[idx][j]['end_points'][0]==i or links_clean[idx][j]['end_points'][1]==i:\n",
    "                    pair.append(j)\n",
    "            if len(pair) == 2:\n",
    "                if links_clean[idx][pair[0]]['end_points'][0] == i:\n",
    "                    if links_clean[idx][pair[1]]['end_points'][0] == i:\n",
    "                        links_clean[idx][pair[0]]['end_points'] = [links_clean[idx][pair[1]]['end_points'][1],links_clean[idx][pair[0]]['end_points'][1]]\n",
    "                        links_clean[idx][pair[0]]['points'] = links_clean[idx][pair[1]]['points'][::-1][:-1] + links_clean[idx][pair[0]]['points']\n",
    "                        links_clean[idx][pair[0]]['nodes'] = links_clean[idx][pair[1]]['nodes'][::-1][:-1] + links_clean[idx][pair[0]]['nodes']\n",
    "                        del links_clean[idx][pair[1]]\n",
    "                    else:\n",
    "                        links_clean[idx][pair[0]]['end_points'] = [links_clean[idx][pair[1]]['end_points'][0],links_clean[idx][pair[0]]['end_points'][1]]\n",
    "                        links_clean[idx][pair[0]]['points'] = links_clean[idx][pair[1]]['points'][:-1] + links_clean[idx][pair[0]]['points']\n",
    "                        links_clean[idx][pair[0]]['nodes'] = links_clean[idx][pair[1]]['nodes'][:-1] + links_clean[idx][pair[0]]['nodes']\n",
    "                        del links_clean[idx][pair[1]]\n",
    "                else:\n",
    "                    if links_clean[idx][pair[1]]['end_points'][0] == i:\n",
    "                        links_clean[idx][pair[0]]['end_points'] = [links_clean[idx][pair[0]]['end_points'][0],links_clean[idx][pair[1]]['end_points'][1]]\n",
    "                        links_clean[idx][pair[0]]['points'] = links_clean[idx][pair[0]]['points'][:-1] + links_clean[idx][pair[1]]['points']\n",
    "                        links_clean[idx][pair[0]]['nodes'] = links_clean[idx][pair[0]]['nodes'][:-1] + links_clean[idx][pair[1]]['nodes']\n",
    "                        del links_clean[idx][pair[1]]\n",
    "                    else:\n",
    "                        links_clean[idx][pair[0]]['end_points'] = [links_clean[idx][pair[0]]['end_points'][0],links_clean[idx][pair[1]]['end_points'][0]]\n",
    "                        links_clean[idx][pair[0]]['points'] = links_clean[idx][pair[0]]['points'][:-1] + links_clean[idx][pair[1]]['points'][::-1]\n",
    "                        links_clean[idx][pair[0]]['nodes'] = links_clean[idx][pair[0]]['nodes'][:-1] + links_clean[idx][pair[1]]['nodes'][::-1]\n",
    "                        del links_clean[idx][pair[1]]\n",
    "            elif len(pair) == 1:\n",
    "                del links_clean[idx][pair[0]]\n",
    "        nodes = array([links_clean[idx][j]['end_points'][0] for j in links_clean[idx]]+[links_clean[idx][j]['end_points'][1] for j in links_clean[idx]])\n",
    "        n_list = array(list(set(nodes)))\n",
    "        degrees = array([len(where(nodes==i)[0]) for i in n_list])\n",
    "#         ends = n_list[where(degrees==1)[0]]\n",
    "        targets = n_list[where(degrees==2)[0]]              \n",
    "   \n",
    "                     \n",
    "        "
   ]
  },
  {
   "cell_type": "code",
   "execution_count": 325,
   "metadata": {},
   "outputs": [],
   "source": [
    "json.dump(links_clean, open('./links_cleaned_branches_with_synapses_no_degree_2_nodes_BL_L.json','w'))"
   ]
  },
  {
   "cell_type": "code",
   "execution_count": 326,
   "metadata": {},
   "outputs": [],
   "source": [
    "links_clean = jlo('./links_cleaned_branches_with_synapses_BL_L.json')"
   ]
  },
  {
   "cell_type": "code",
   "execution_count": null,
   "metadata": {},
   "outputs": [],
   "source": [
    "## build full network ##\n",
    "links_f = {}\n",
    "for idx in links:\n",
    "    for i in links[idx]:\n",
    "        links_f[str(len(links_f))] = {'end_points':[str(links[idx][i]['points'][0]), str(links[idx][i]['points'][-1])], 'points':links[idx][i]['points']}\n",
    "json.dump(links_f, open('./links_of_full_network_BL_L.json','w'))        "
   ]
  },
  {
   "cell_type": "code",
   "execution_count": null,
   "metadata": {},
   "outputs": [],
   "source": [
    "## delete twigs ##\n",
    "nodes = array([links_f[j]['end_points'][0] for j in links_f]+[links_f[j]['end_points'][1] for j in links_f])\n",
    "n_list = array(list(set(nodes)))\n",
    "degrees = array([len(where(nodes==i)[0]) for i in n_list])\n",
    "ends = n_list[where(degrees==1)[0]]\n",
    "flag = 1\n",
    "while flag > 0:\n",
    "    tmp = list(links_f.keys())\n",
    "    flag = 0\n",
    "    for i in tmp:\n",
    "        if links_f[i]['end_points'][0] in ends or links_f[i]['end_points'][1] in ends:\n",
    "            del links_f[i]\n",
    "            flag = 1\n",
    "#             elif (links_f[i]['end_points'][0] in ends) and (links_f[i]['end_points'][1] in neuron_synapse_nodes[idx]):\n",
    "#                 del links_f[i]\n",
    "#                 flag = 1\n",
    "#             elif (links_f[i]['end_points'][1] in ends) and (links_f[i]['end_points'][0] in neuron_synapse_nodes[idx]):\n",
    "#                 del links_f[i]\n",
    "#                 flag = 1\n",
    "    nodes = array([links_f[j]['end_points'][0] for j in links_f]+[links_f[j]['end_points'][1] for j in links_f])\n",
    "    n_list = array(list(set(nodes)))\n",
    "    degrees = array([len(where(nodes==i)[0]) for i in n_list])\n",
    "    ends = n_list[where(degrees==1)[0]]              \n",
    "json.dump(links_f, open('./links_of_full_network_no_twigs_BL_L.json','w'))        "
   ]
  },
  {
   "cell_type": "code",
   "execution_count": null,
   "metadata": {},
   "outputs": [],
   "source": [
    "## clear degree-2 nodes ##\n",
    "nodes = array([links_f[j]['end_points'][0] for j in links_f]+[links_f[j]['end_points'][1] for j in links_f])\n",
    "n_list = array(list(set(nodes)))\n",
    "degrees = array([len(where(nodes==i)[0]) for i in n_list])\n",
    "#     ends = n_list[where(degrees==1)[0]]\n",
    "targets = n_list[where(degrees==2)[0]]\n",
    "while len(targets) > 0:\n",
    "#         tmp = list(links_clean[idx].keys())\n",
    "    for i in targets:\n",
    "        pair = []\n",
    "        for j in links_f:\n",
    "            if links_f[j]['end_points'][0]==i or links_f[j]['end_points'][1]==i:\n",
    "                pair.append(j)\n",
    "        if len(pair) == 2:\n",
    "            if links_f[pair[0]]['end_points'][0] == i:\n",
    "                if links_f[pair[1]]['end_points'][0] == i:\n",
    "                    links_f[pair[0]]['end_points'] = [links_f[pair[1]]['end_points'][1],links_f[pair[0]]['end_points'][1]]\n",
    "                    links_f[pair[0]]['points'] = links_f[pair[1]]['points'][::-1][:-1] + links_f[pair[0]]['points']\n",
    "#                     links_f[pair[0]]['nodes'] = links_f[pair[1]]['nodes'][::-1][:-1] + links_f[pair[0]]['nodes']\n",
    "                    del links_f[pair[1]]\n",
    "                else:\n",
    "                    links_f[pair[0]]['end_points'] = [links_f[pair[1]]['end_points'][0],links_f[pair[0]]['end_points'][1]]\n",
    "                    links_f[pair[0]]['points'] = links_f[pair[1]]['points'][:-1] + links_f[pair[0]]['points']\n",
    "#                     links_f[pair[0]]['nodes'] = links_f[pair[1]]['nodes'][:-1] + links_f[pair[0]]['nodes']\n",
    "                    del links_f[pair[1]]\n",
    "            else:\n",
    "                if links_f[pair[1]]['end_points'][0] == i:\n",
    "                    links_f[pair[0]]['end_points'] = [links_f[pair[0]]['end_points'][0],links_f[pair[1]]['end_points'][1]]\n",
    "                    links_f[pair[0]]['points'] = links_f[pair[0]]['points'][:-1] + links_f[pair[1]]['points']\n",
    "#                     links_f[pair[0]]['nodes'] = links_f[pair[0]]['nodes'][:-1] + links_f[pair[1]]['nodes']\n",
    "                    del links_f[pair[1]]\n",
    "                else:\n",
    "                    links_f[pair[0]]['end_points'] = [links_f[pair[0]]['end_points'][0],links_f[pair[1]]['end_points'][0]]\n",
    "                    links_f[pair[0]]['points'] = links_f[pair[0]]['points'][:-1] + links_f[pair[1]]['points'][::-1]\n",
    "#                     links_f[pair[0]]['nodes'] = links_f[pair[0]]['nodes'][:-1] + links_f[pair[1]]['nodes'][::-1]\n",
    "                    del links_f[pair[1]]\n",
    "        elif len(pair) == 1 and len(links_f[pair[0]]['points']) <4:\n",
    "            del links_f[pair[0]]\n",
    "        elif len(pair)>2:\n",
    "            print(pair)\n",
    "    nodes = array([links_f[j]['end_points'][0] for j in links_f]+[links_f[j]['end_points'][1] for j in links_f])\n",
    "    n_list = array(list(set(nodes)))\n",
    "    degrees = array([len(where(nodes==i)[0]) for i in n_list])\n",
    "#         ends = n_list[where(degrees==1)[0]]\n",
    "    targets = n_list[where(degrees==2)[0]]              \n",
    "\n",
    "json.dump(links_f, open('./links_of_full_network_no_twigs_no_degree_2_nodes_BL_L.json','w'))\n",
    "        "
   ]
  },
  {
   "cell_type": "code",
   "execution_count": null,
   "metadata": {},
   "outputs": [],
   "source": [
    "net = {'links':links_f}\n",
    "edge_list = [net['links'][i]['end_points'] for i in net['links']]\n",
    "adj_list = co.defaultdict(list)\n",
    "for i,j in edge_list:\n",
    "    adj_list[i].append(j)\n",
    "    adj_list[j].append(i)\n",
    "\n",
    "for i in adj_list:\n",
    "    adj_list[i] = list(set(adj_list[i]))"
   ]
  },
  {
   "cell_type": "code",
   "execution_count": null,
   "metadata": {},
   "outputs": [],
   "source": [
    "## measrue nGLN ##\n",
    "\n",
    "network = gln.simplify_v8(adj_list,net,core=95)\n",
    "network.find_base_loops(2)\n",
    "network.get_min_loop_set()\n",
    "network.separate_base_loops()\n",
    "network.cal_normalization_const_parallel()\n",
    "norm = network.new_norm\n",
    "print(norm)\n",
    "network.cal_m2_old_parallel()\n",
    "network.cal_m2_normalized_new(norm = norm)\n",
    "print(network.m2_normalized)"
   ]
  },
  {
   "cell_type": "code",
   "execution_count": null,
   "metadata": {},
   "outputs": [],
   "source": []
  },
  {
   "cell_type": "code",
   "execution_count": null,
   "metadata": {},
   "outputs": [],
   "source": []
  },
  {
   "cell_type": "code",
   "execution_count": null,
   "metadata": {},
   "outputs": [],
   "source": []
  },
  {
   "cell_type": "code",
   "execution_count": null,
   "metadata": {},
   "outputs": [],
   "source": []
  },
  {
   "cell_type": "code",
   "execution_count": null,
   "metadata": {},
   "outputs": [],
   "source": []
  }
 ],
 "metadata": {
  "kernelspec": {
   "display_name": "Python 3",
   "language": "python",
   "name": "python3"
  },
  "language_info": {
   "codemirror_mode": {
    "name": "ipython",
    "version": 3
   },
   "file_extension": ".py",
   "mimetype": "text/x-python",
   "name": "python",
   "nbconvert_exporter": "python",
   "pygments_lexer": "ipython3",
   "version": "3.5.3"
  }
 },
 "nbformat": 4,
 "nbformat_minor": 2
}
